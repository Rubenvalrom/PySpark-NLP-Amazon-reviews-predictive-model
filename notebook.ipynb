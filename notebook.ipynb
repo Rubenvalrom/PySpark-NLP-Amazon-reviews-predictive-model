{
 "cells": [
  {
   "cell_type": "markdown",
   "id": "21b5a3ee",
   "metadata": {},
   "source": [
    "# Creación de un Modelo Predictivo con Procesamiento de Lenguaje Natural (NLP) en PySpark  para las puntuaciones de las reviews de Amazon"
   ]
  },
  {
   "cell_type": "markdown",
   "id": "2b9184e6",
   "metadata": {},
   "source": [
    "EL objetivo de este notebook es la creación de un flujo de trabajo completo de NLP para predecir de 1 a 5 estrellas en reseñas de Amazon, contando con un total de 3.6 millones de muestras.  \n",
    "Para ello se ha utilizado PySpark desde la breve limpieza y análisis exploratorio hasta la creación y evaluación de un modelo de stacking compuesto por 2 capas.\n",
    "\n",
    "**Estructura**\n",
    "- Análisis Exploratorio de Datos (EDA)  \n",
    "- Procesamiento de Texto: tokenización, n-gramas y TF-IDF  \n",
    "- Modelado en dos capas (modelos base + modelo final)  \n",
    "- Evaluación: MAE y matriz de confusión  \n",
    "- Conclusiones y siguientes pasos"
   ]
  },
  {
   "cell_type": "markdown",
   "id": "8612d5d3",
   "metadata": {},
   "source": [
    "## Análisis de Datos Exploratorio"
   ]
  },
  {
   "cell_type": "code",
   "execution_count": 2,
   "id": "72168500",
   "metadata": {},
   "outputs": [],
   "source": [
    "import findspark\n",
    "import matplotlib.pyplot as plt\n",
    "import seaborn as sns\n",
    "from pyspark.ml import Pipeline\n",
    "from pyspark.ml.classification import LogisticRegression, MultilayerPerceptronClassifier, NaiveBayes, RandomForestClassifier\n",
    "from pyspark.ml.evaluation import RegressionEvaluator\n",
    "from pyspark.ml.feature import CountVectorizer, IDF, NGram, StopWordsRemover, Tokenizer, VectorAssembler\n",
    "from pyspark.sql import SparkSession\n",
    "from pyspark.sql.types import IntegerType, StringType, StructField, StructType\n",
    "from sklearn.metrics import confusion_matrix"
   ]
  },
  {
   "cell_type": "markdown",
   "id": "abb0e35e",
   "metadata": {},
   "source": [
    "### Conexión con Apache Spark"
   ]
  },
  {
   "cell_type": "code",
   "execution_count": 2,
   "id": "68b920df",
   "metadata": {},
   "outputs": [],
   "source": [
    "findspark.init()\n",
    "spark = SparkSession.builder \\\n",
    "    .appName(\"Ruben Valverde Amazon NLP\") \\\n",
    "    .master(\"local[*]\") \\\n",
    "    .config(\"spark.driver.memory\", \"14g\") \\\n",
    "    .getOrCreate()"
   ]
  },
  {
   "cell_type": "markdown",
   "id": "6618c20d",
   "metadata": {},
   "source": [
    "### Importación de los datos"
   ]
  },
  {
   "cell_type": "markdown",
   "id": "c9f6acfd",
   "metadata": {},
   "source": [
    "El dataset se compone de 3 columnas: \n",
    "1. La puntuación del producto\n",
    "2. El titulo de la review\n",
    "3. La review, donde el cliente expresa su opinión del producto"
   ]
  },
  {
   "cell_type": "code",
   "execution_count": 3,
   "id": "2182910f",
   "metadata": {},
   "outputs": [],
   "source": [
    "schema = StructType([\n",
    "    StructField(\"rating\", IntegerType()),\n",
    "    StructField(\"title\", StringType()),\n",
    "    StructField(\"review\", StringType())\n",
    "    ])"
   ]
  },
  {
   "cell_type": "code",
   "execution_count": 5,
   "id": "421c2dd5",
   "metadata": {},
   "outputs": [
    {
     "name": "stdout",
     "output_type": "stream",
     "text": [
      "+------+------------------+------------------------------------------------------------------------------------------------------------------------------------------------------------------------------------------------------------+\n",
      "|rating|title             |review                                                                                                                                                                                                      |\n",
      "+------+------------------+------------------------------------------------------------------------------------------------------------------------------------------------------------------------------------------------------------+\n",
      "|3     |more like funchuck|\"Gave this to my dad for a gag gift after directing \"\"Nunsense                                                                                                                                              |\n",
      "|5     |Inspiring         |I hope a lot of people hear this cd. We need more strong and positive vibes like this. Great vocals, fresh tunes, cross-cultural happiness. Her blues is from the gut. The pop sounds are catchy and mature.|\n",
      "+------+------------------+------------------------------------------------------------------------------------------------------------------------------------------------------------------------------------------------------------+\n",
      "only showing top 2 rows\n"
     ]
    }
   ],
   "source": [
    "train_df = spark.read.csv(\"datasets/train.csv\", header=False, schema=schema, sep=\",\", nanValue=None)\n",
    "train_df.show(2, truncate=False)"
   ]
  },
  {
   "cell_type": "code",
   "execution_count": 7,
   "id": "29c879c5",
   "metadata": {},
   "outputs": [],
   "source": [
    "test_df = spark.read.csv(\"datasets/test.csv\", header=False, schema=schema, sep=\",\", nanValue=None)"
   ]
  },
  {
   "cell_type": "code",
   "execution_count": 8,
   "id": "6a2582f9",
   "metadata": {},
   "outputs": [
    {
     "name": "stdout",
     "output_type": "stream",
     "text": [
      "root\n",
      " |-- rating: integer (nullable = true)\n",
      " |-- title: string (nullable = true)\n",
      " |-- review: string (nullable = true)\n",
      "\n"
     ]
    }
   ],
   "source": [
    "train_df.printSchema()"
   ]
  },
  {
   "cell_type": "code",
   "execution_count": 9,
   "id": "0aae09f0",
   "metadata": {},
   "outputs": [
    {
     "data": {
      "text/plain": [
       "3000000"
      ]
     },
     "execution_count": 9,
     "metadata": {},
     "output_type": "execute_result"
    }
   ],
   "source": [
    "train_df.count()"
   ]
  },
  {
   "cell_type": "code",
   "execution_count": 10,
   "id": "bb010dc2",
   "metadata": {},
   "outputs": [
    {
     "data": {
      "text/plain": [
       "650000"
      ]
     },
     "execution_count": 10,
     "metadata": {},
     "output_type": "execute_result"
    }
   ],
   "source": [
    "test_df.count()"
   ]
  },
  {
   "cell_type": "markdown",
   "id": "eb00cb96",
   "metadata": {},
   "source": [
    "**Observaciones**  \n",
    "El dataset de entrenamiento contiene 3 millones de filas y el test 650 mil"
   ]
  },
  {
   "cell_type": "code",
   "execution_count": 11,
   "id": "d0867645",
   "metadata": {},
   "outputs": [
    {
     "name": "stdout",
     "output_type": "stream",
     "text": [
      "+------+\n",
      "|rating|\n",
      "+------+\n",
      "|     1|\n",
      "|     2|\n",
      "|     3|\n",
      "|     4|\n",
      "|     5|\n",
      "+------+\n",
      "\n"
     ]
    }
   ],
   "source": [
    "train_df.select(\"rating\").distinct().orderBy(\"rating\").show()"
   ]
  },
  {
   "cell_type": "markdown",
   "id": "2b0e7cc5",
   "metadata": {},
   "source": [
    "Las puntuaciones de los productos van del 1 al 5"
   ]
  },
  {
   "cell_type": "markdown",
   "id": "296b30e0",
   "metadata": {},
   "source": [
    "Debido a que los modelos a vecces predecian 0 se le restará 1 a todas las puntuaciones."
   ]
  },
  {
   "cell_type": "code",
   "execution_count": 12,
   "id": "edc1d3bf",
   "metadata": {},
   "outputs": [
    {
     "name": "stdout",
     "output_type": "stream",
     "text": [
      "+------+\n",
      "|rating|\n",
      "+------+\n",
      "|     0|\n",
      "|     1|\n",
      "|     2|\n",
      "|     3|\n",
      "|     4|\n",
      "+------+\n",
      "\n"
     ]
    }
   ],
   "source": [
    "train_df = train_df.withColumn(\"rating\", train_df[\"rating\"] -1)\n",
    "test_df = test_df.withColumn(\"rating\", test_df[\"rating\"] -1)\n",
    "\n",
    "train_df.select(\"rating\").distinct().orderBy(\"rating\").show()"
   ]
  },
  {
   "cell_type": "markdown",
   "id": "386208f6",
   "metadata": {},
   "source": [
    "**Conteo de nulos**"
   ]
  },
  {
   "cell_type": "code",
   "execution_count": 13,
   "id": "d23b70aa",
   "metadata": {},
   "outputs": [
    {
     "data": {
      "text/plain": [
       "65"
      ]
     },
     "execution_count": 13,
     "metadata": {},
     "output_type": "execute_result"
    }
   ],
   "source": [
    "train_df.filter(train_df[\"rating\"].isNull() | train_df[\"title\"].isNull() | train_df[\"review\"].isNull()).count()"
   ]
  },
  {
   "cell_type": "code",
   "execution_count": 14,
   "id": "d54eb870",
   "metadata": {},
   "outputs": [
    {
     "data": {
      "text/plain": [
       "6"
      ]
     },
     "execution_count": 14,
     "metadata": {},
     "output_type": "execute_result"
    }
   ],
   "source": [
    "test_df.filter(test_df[\"rating\"].isNull() | test_df[\"title\"].isNull() | test_df[\"review\"].isNull()).count()"
   ]
  },
  {
   "cell_type": "markdown",
   "id": "5ac676e4",
   "metadata": {},
   "source": [
    "**Observaciones**  \n",
    "1. El dataset de entrenamiento contiene 65 filas con nulos.  \n",
    "2. El dataset de test contiene 6 filas con nulos.  \n",
    "\n",
    "Dado el pequeño número de nulos, las filas se eliminaran."
   ]
  },
  {
   "cell_type": "code",
   "execution_count": 15,
   "id": "616815c0",
   "metadata": {},
   "outputs": [
    {
     "data": {
      "text/plain": [
       "2999935"
      ]
     },
     "execution_count": 15,
     "metadata": {},
     "output_type": "execute_result"
    }
   ],
   "source": [
    "train_df = train_df.na.drop()\n",
    "train_df.count()"
   ]
  },
  {
   "cell_type": "code",
   "execution_count": 16,
   "id": "72e40be7",
   "metadata": {},
   "outputs": [
    {
     "data": {
      "text/plain": [
       "649994"
      ]
     },
     "execution_count": 16,
     "metadata": {},
     "output_type": "execute_result"
    }
   ],
   "source": [
    "test_df = test_df.na.drop()\n",
    "test_df.count()"
   ]
  },
  {
   "cell_type": "markdown",
   "id": "e002abc7",
   "metadata": {},
   "source": [
    "### Distribución de las Puntuaciones"
   ]
  },
  {
   "cell_type": "code",
   "execution_count": 17,
   "id": "2762c85c",
   "metadata": {},
   "outputs": [],
   "source": [
    "sns.set_theme(style=\"whitegrid\")"
   ]
  },
  {
   "cell_type": "code",
   "execution_count": 18,
   "id": "176d8db4",
   "metadata": {},
   "outputs": [],
   "source": [
    "ratings_pd = train_df.select(\"rating\").toPandas()"
   ]
  },
  {
   "cell_type": "code",
   "execution_count": 19,
   "id": "8e9cd652",
   "metadata": {},
   "outputs": [
    {
     "data": {
      "image/png": "[encoded data removed]",
      "text/plain": [
       "<Figure size 640x480 with 1 Axes>"
      ]
     },
     "metadata": {},
     "output_type": "display_data"
    }
   ],
   "source": [
    "sns.countplot(data=ratings_pd, x=\"rating\", palette=\"viridis\", hue=\"rating\", legend=False)\n",
    "plt.title(\"Distribution of Ratings\")\n",
    "plt.xlabel(\"Rating\")\n",
    "plt.ylabel(\"Count\")\n",
    "plt.show()"
   ]
  },
  {
   "cell_type": "markdown",
   "id": "fa7ddb5a",
   "metadata": {},
   "source": [
    "**Observaciones**  \n",
    "Todas las puntuaciones están perfectamente balanceadas"
   ]
  },
  {
   "cell_type": "markdown",
   "id": "1243b71e",
   "metadata": {},
   "source": [
    "## Procesamiento de Datos"
   ]
  },
  {
   "cell_type": "markdown",
   "id": "28e86075",
   "metadata": {},
   "source": [
    "En esta sección se creará un pipeline para transformar los títulos y reviews en un formato más adecuado para el modelo."
   ]
  },
  {
   "cell_type": "markdown",
   "id": "91f1510b",
   "metadata": {},
   "source": [
    "**Tokenización**  \n",
    "PySpark convierte por defecto las palabras a minuscula por lo que no es necesario realizar la transformación previamente"
   ]
  },
  {
   "cell_type": "code",
   "execution_count": 20,
   "id": "fd2c6611",
   "metadata": {},
   "outputs": [],
   "source": [
    "tokenizer_title = Tokenizer(inputCol=\"title\", outputCol=\"title_words\")\n",
    "tokenizer_review = Tokenizer(inputCol=\"review\", outputCol=\"review_words\")"
   ]
  },
  {
   "cell_type": "markdown",
   "id": "bc9e1935",
   "metadata": {},
   "source": [
    "**Eliminación de palabras con poco significado**  \n",
    "Ejemplos: the, of, from, for"
   ]
  },
  {
   "cell_type": "code",
   "execution_count": 21,
   "id": "06fc44ca",
   "metadata": {},
   "outputs": [],
   "source": [
    "stop_words_remover_title = StopWordsRemover(inputCol=\"title_words\", outputCol=\"title_lemmatized\")\n",
    "stop_words_remover_review = StopWordsRemover(inputCol=\"review_words\", outputCol=\"review_lemmatized\")"
   ]
  },
  {
   "cell_type": "markdown",
   "id": "fe18e84e",
   "metadata": {},
   "source": [
    "**N-Gramas**  \n",
    "Conjuntos de n palabras, a veces dos o tres palabras juntas pueden tener un único significado.  \n",
    "Ejemplo: \"Media Naranja\""
   ]
  },
  {
   "cell_type": "code",
   "execution_count": 22,
   "id": "cb2ec697",
   "metadata": {},
   "outputs": [],
   "source": [
    "two_grams_title = NGram(n=2, inputCol=\"title_lemmatized\", outputCol=\"title_2grams\")\n",
    "two_grams_review = NGram(n=2, inputCol=\"review_lemmatized\", outputCol=\"review_2grams\")"
   ]
  },
  {
   "cell_type": "markdown",
   "id": "fe84dcbd",
   "metadata": {},
   "source": [
    "**Term Frecuency - Inverse Document Frecuency (tf-idf)**  \n",
    "Le da una puntuación de relevancia a cada palabra teniendo en cuenta el nº de veces que aparece en la review y en todo el dataframe."
   ]
  },
  {
   "cell_type": "code",
   "execution_count": 23,
   "id": "ba49090e",
   "metadata": {},
   "outputs": [],
   "source": [
    "count_title = CountVectorizer(inputCol=\"title_lemmatized\", outputCol=\"title_count\", vocabSize=100)\n",
    "count_review = CountVectorizer(inputCol=\"review_lemmatized\", outputCol=\"review_count\", vocabSize=400)\n",
    "\n",
    "count_title_2grams = CountVectorizer(inputCol=\"title_2grams\", outputCol=\"title_2grams_count\", vocabSize=100)\n",
    "count_review_2grams = CountVectorizer(inputCol=\"review_2grams\", outputCol=\"review_2grams_count\", vocabSize=400)\n",
    "\n",
    "idf_title = IDF(inputCol=\"title_count\", outputCol=\"title_tfidf\")\n",
    "idf_review = IDF(inputCol=\"review_count\", outputCol=\"review_tfidf\")\n",
    "\n",
    "idf_title_2grams = IDF(inputCol=\"title_2grams_count\", outputCol=\"title_2grams_tfidf\")\n",
    "idf_review_2grams = IDF(inputCol=\"review_2grams_count\", outputCol=\"review_2grams_tfidf\")"
   ]
  },
  {
   "cell_type": "markdown",
   "id": "07ded5d1",
   "metadata": {},
   "source": [
    "**Vector Assembler**  \n",
    "Une varias columnas en una formando un vector, es el formato utilizado por los modelo de ML de PySpark"
   ]
  },
  {
   "cell_type": "code",
   "execution_count": 24,
   "id": "8f680566",
   "metadata": {},
   "outputs": [],
   "source": [
    "assembler = VectorAssembler(\n",
    "    inputCols=[\"title_tfidf\", \n",
    "               \"title_2grams_tfidf\",\n",
    "               \"review_tfidf\", \n",
    "               \"review_2grams_tfidf\"],\n",
    "    outputCol=\"features\")"
   ]
  },
  {
   "cell_type": "markdown",
   "id": "b2a25b94",
   "metadata": {},
   "source": [
    "**Cambio de nombre**  \n",
    "Para un entrenamiento más estandar.\n",
    "\n",
    "Tambien se ponen los dataframe en cache para aumentar la velocidad de entrenamiento"
   ]
  },
  {
   "cell_type": "code",
   "execution_count": 25,
   "id": "f4a30246",
   "metadata": {},
   "outputs": [],
   "source": [
    "train_df = train_df.withColumnRenamed(\"rating\", \"label\")\n",
    "test_df = test_df.withColumnRenamed(\"rating\", \"label\")"
   ]
  },
  {
   "cell_type": "markdown",
   "id": "bef093c4",
   "metadata": {},
   "source": [
    "**Pipeline**  \n",
    "Creo una pipeline añadiendo todas la fases de procesamiento de los datos"
   ]
  },
  {
   "cell_type": "code",
   "execution_count": 26,
   "id": "7bab6cd3",
   "metadata": {},
   "outputs": [],
   "source": [
    "pipeline_nlp = Pipeline(stages=[\n",
    "    tokenizer_title,\n",
    "    tokenizer_review,\n",
    "    stop_words_remover_title,   \n",
    "    stop_words_remover_review,\n",
    "    two_grams_title,\n",
    "    two_grams_review,\n",
    "    count_title,\n",
    "    count_review,\n",
    "    count_title_2grams,\n",
    "    count_review_2grams,\n",
    "    idf_title,\n",
    "    idf_review,\n",
    "    idf_title_2grams,\n",
    "    idf_review_2grams,\n",
    "    assembler\n",
    "])"
   ]
  },
  {
   "cell_type": "code",
   "execution_count": 27,
   "id": "e02b664c",
   "metadata": {},
   "outputs": [],
   "source": [
    "pipeline_nlp_model = pipeline_nlp.fit(train_df)"
   ]
  },
  {
   "cell_type": "code",
   "execution_count": 28,
   "id": "4d824680",
   "metadata": {},
   "outputs": [],
   "source": [
    "train_df_transformed = pipeline_nlp_model.transform(train_df)\n",
    "test_df_transformed = pipeline_nlp_model.transform(test_df)"
   ]
  },
  {
   "cell_type": "markdown",
   "id": "2e201568",
   "metadata": {},
   "source": [
    "## Modelo predictivo\n",
    "\n",
    "Inicialmente se iba a utilizar la versión de XGB para Spark, sin embargo ha dado problemas de compatibilidad, en sustitución se ha creado un meta-modelo con cuatro modelos nativos de PySpark con soporte para multiclase.\n",
    "\n",
    "**Capa 1**  \n",
    "Se han utilizado `Random Forest`, `Naive Bayes` y una pequeña `Red Neuronal`.\n",
    "\n",
    "**Capa Final**   \n",
    "Se utilizan las probabilidades que ha dado cada modelo para cada label en datos no vistos junto a los features en una `Regresión Logística`.\n",
    "\n",
    "**Tipo de modelo**  \n",
    "Dado que la puntuación que pueden poner los usuarios es discreta, es decir no pueden asignarle una puntuación de 4.6 a un producto, se ha optado por modelos de clasificación.\n",
    "\n",
    "**Metricas**  \n",
    "Las puntuaciones sí siguen un order, siendo 1 lo peor y 5 lo mejor sería lógico penalizar más cuanto mayor sea el error, por ejemplo si el valor real es 2 tiene sentido penalizar menos si el modelo predice 1 que si predice 5. Por ese motivo la primera metrica escogida ha sido el Error Medio Absoluto a pesar de que se trate de un modelo de clasificación.  \n",
    "Al precedir valores discretos tambien se ha visualizado una matriz de confusión con la cual poder observar con mayor facilidad su desempeño en cada puntuación."
   ]
  },
  {
   "cell_type": "markdown",
   "id": "6a514fd8",
   "metadata": {},
   "source": [
    "**Capa 1**"
   ]
  },
  {
   "cell_type": "code",
   "execution_count": 29,
   "id": "2b452883",
   "metadata": {},
   "outputs": [],
   "source": [
    "nb = NaiveBayes(\n",
    "    featuresCol=\"features\",\n",
    "    labelCol=\"label\",\n",
    "    probabilityCol=\"probability_nb\",\n",
    "    predictionCol=\"prediction_nb\",\n",
    "    rawPredictionCol=\"rawPrediction_nb\",\n",
    "    smoothing=0.9)\n",
    "\n",
    "rf = RandomForestClassifier(\n",
    "    featuresCol=\"features\",\n",
    "    labelCol=\"label\",\n",
    "    probabilityCol=\"probability_rf\",\n",
    "    predictionCol=\"prediction_rf\",\n",
    "    rawPredictionCol=\"rawPrediction_rf\",\n",
    "    seed=27\n",
    ")\n",
    "nn = MultilayerPerceptronClassifier(\n",
    "    featuresCol=\"features\",\n",
    "    labelCol=\"label\",\n",
    "    probabilityCol=\"probability_nn\",\n",
    "    predictionCol=\"prediction_nn\",\n",
    "    rawPredictionCol=\"rawPrediction_nn\",\n",
    "    maxIter=100,\n",
    "    layers=[1000, 128, 32, 5],\n",
    "    seed=27)"
   ]
  },
  {
   "cell_type": "markdown",
   "id": "dd78f6cf",
   "metadata": {},
   "source": [
    "**Capa 2**"
   ]
  },
  {
   "cell_type": "code",
   "execution_count": 30,
   "id": "de8d6de1",
   "metadata": {},
   "outputs": [],
   "source": [
    "log = LogisticRegression(\n",
    "    featuresCol=\"features_2\",\n",
    "    labelCol=\"label\",\n",
    "    predictionCol=\"prediction\",\n",
    "    maxIter=1000,\n",
    "    regParam=0.01,\n",
    "    elasticNetParam=0.8)"
   ]
  },
  {
   "cell_type": "markdown",
   "id": "1c908325",
   "metadata": {},
   "source": [
    "**Clase MetaModelo**  \n",
    "El objetivo es crear una clase que agrupe todo el proceso del metamodelo"
   ]
  },
  {
   "cell_type": "code",
   "execution_count": null,
   "id": "18556cc5",
   "metadata": {},
   "outputs": [],
   "source": [
    "class MetaModelo:\n",
    "    \"\"\"\n",
    "    Modelo que combina varios modelos base en la primera capa y un modelo en la segunda y última capa.\n",
    "\n",
    "    Parametros:\n",
    "    modelos_base: Lista de modelos para la primera capa.\n",
    "    modelo_stacker: Modelo final que combina las predicciones de los modelos base con los propios datos.\n",
    "    ratio: Proporción de datos para entrenar la primera capa y la segunda capa.\n",
    "    seed: Semilla para la aleatoriedad en la división de datos.\n",
    "    \"\"\"\n",
    "\n",
    "    def __init__(self, modelos_base=[nb, rf, nn] ,modelo_stacker=log, ratio=[0.35, 0.65], seed=27):\n",
    "\n",
    "        self.modelos_base = modelos_base\n",
    "        self.modelo_stacker = modelo_stacker\n",
    "        self.ratio = ratio\n",
    "        self.seed = seed\n",
    "\n",
    "        \n",
    "    def fit(self, df): \n",
    "        df_1, df_2 = df.randomSplit(self.ratio, seed=self.seed)\n",
    "        df_1.cache()\n",
    "        df_2.cache()\n",
    "\n",
    "        self.ensamblador = VectorAssembler(\n",
    "            inputCols=[modelo.getProbabilityCol() for modelo in self.modelos_base],\n",
    "            outputCol=self.modelo_stacker.getFeaturesCol()\n",
    "        )\n",
    "\n",
    "        self.pipeline = Pipeline(stages=self.modelos_base + [self.ensamblador])\n",
    "        self.pipeline_model = self.pipeline.fit(df_1)\n",
    "        df_2_transformed = self.pipeline_model.transform(df_2)\n",
    "\n",
    "        self.modelo_final = self.modelo_stacker.fit(df_2_transformed)         \n",
    "\n",
    "        return self\n",
    "        \n",
    "    def transform(self, df):\n",
    "\n",
    "        df_transformed = self.pipeline_model.transform(df)\n",
    "        df_final = self.modelo_final.transform(df_transformed)\n",
    "\n",
    "        return df_final\n",
    "    \n",
    "    def evaluate(self, df, metrica=\"mae\"):\n",
    "        predicciones = self.transform(df)\n",
    "        evaluator = RegressionEvaluator(labelCol=self.modelo_stacker.getLabelCol(), predictionCol=self.modelo_stacker.getPredictionCol(), metricName=metrica)\n",
    "        error = evaluator.evaluate(predicciones)\n",
    "\n",
    "        return error \n"
   ]
  },
  {
   "cell_type": "code",
   "execution_count": 32,
   "id": "227c46e3",
   "metadata": {},
   "outputs": [
    {
     "data": {
      "text/plain": [
       "<__main__.MetaModelo at 0x1f6a5905540>"
      ]
     },
     "execution_count": 32,
     "metadata": {},
     "output_type": "execute_result"
    }
   ],
   "source": [
    "meta_modelo = MetaModelo()\n",
    "meta_modelo.fit(train_df_transformed)"
   ]
  },
  {
   "cell_type": "markdown",
   "id": "3155f5c4",
   "metadata": {},
   "source": [
    "## Evaluación"
   ]
  },
  {
   "cell_type": "markdown",
   "id": "f96d2e9b",
   "metadata": {},
   "source": [
    "### Error Medio Absoluto (MAE)"
   ]
  },
  {
   "cell_type": "code",
   "execution_count": 33,
   "id": "56d8f8c8",
   "metadata": {},
   "outputs": [
    {
     "name": "stdout",
     "output_type": "stream",
     "text": [
      "MAE en el conjunto de entrenamiento: 0.8372781410263889\n",
      "-----------------------------------------------\n",
      "MAE en el conjunto de prueba: 0.83779850275541\n"
     ]
    }
   ],
   "source": [
    "train_mae = meta_modelo.evaluate(train_df_transformed)\n",
    "test_mae = meta_modelo.evaluate(test_df_transformed)\n",
    "\n",
    "print(\"MAE en el conjunto de entrenamiento:\", train_mae)\n",
    "print(\"-----------------------------------------------\")\n",
    "print(\"MAE en el conjunto de prueba:\", test_mae) "
   ]
  },
  {
   "cell_type": "markdown",
   "id": "2848033c",
   "metadata": {},
   "source": [
    "### Matriz de Confusión\n",
    "Se visualizan las predicciones del modelo vs las puntuaciones reales"
   ]
  },
  {
   "cell_type": "markdown",
   "id": "ed573f85",
   "metadata": {},
   "source": [
    "**Observaciones**  \n",
    "El modelo tiene un error medio absoluto de 0.835 en el conjunto de entrenamiento y de 0.836 en el conjunto de prueba.  \n",
    "Esto indica que hay overfitting."
   ]
  },
  {
   "cell_type": "code",
   "execution_count": 34,
   "id": "60805d8d",
   "metadata": {},
   "outputs": [
    {
     "data": {
      "image/png": "[encoded data removed]",
      "text/plain": [
       "<Figure size 800x800 with 1 Axes>"
      ]
     },
     "metadata": {},
     "output_type": "display_data"
    }
   ],
   "source": [
    "test_predictions = meta_modelo.transform(test_df_transformed)\n",
    "\n",
    "y_true = test_predictions.select(\"label\").toPandas()\n",
    "y_pred = test_predictions.select(\"prediction\").toPandas()\n",
    "\n",
    "cm = confusion_matrix(y_true, y_pred)\n",
    "plt.figure(figsize=(8, 8))\n",
    "sns.heatmap(cm, annot=True, fmt=\"d\", cmap=\"Blues\", cbar=False)\n",
    "plt.title(\"Matriz de Confusión\")\n",
    "plt.xlabel(\"Predicción\")\n",
    "plt.ylabel(\"Real\")\n",
    "plt.show()"
   ]
  },
  {
   "cell_type": "markdown",
   "id": "4ffe721a",
   "metadata": {},
   "source": [
    "**Observaciones**  \n",
    "Se aprecia que la mayoria de las predicciones son correctas, estando el grueso en la diagonal y con pocas predicciones \"muy erradas\", siendo las dos puntuaciones donde ha obtenido un mejor desempeño en los extremos, cuando el producto es o muy malo o muy bueno.  \n",
    "Teniendo esto en cuenta el modelo no parece presentar problemas de sesgo."
   ]
  },
  {
   "cell_type": "markdown",
   "id": "1e3b1ec8",
   "metadata": {},
   "source": [
    "## Conclusión  \n",
    "PySpark ha hecho factible manejar millones de filas en un tiempo razonable (aunque con bastantes bugs).   \n",
    "Se han procesado los titulos y comentarios de los usuarios en un pipeline para luego crear un pequeño meta-modelo con una tasa de acierto razonable.\n",
    "\n",
    "Después de bastantes ajustes y pruebas el tiempo de ejecución total del notebook ronda los 40 minutos.  \n",
    "\n",
    "Con una mayor capacidad de computación se podrían integrar nuevas caraterísticas como un tri-grama para las reviews, realizar un ajuste de hiperparámetros o aprovechar la compatibilidad con PyTorch y crear una Red Neuronal más compleja y asi alcanzar unas predicciones aún más acertadas."
   ]
  }
 ],
 "metadata": {
  "kernelspec": {
   "display_name": "SparkEnv",
   "language": "python",
   "name": "python3"
  },
  "language_info": {
   "codemirror_mode": {
    "name": "ipython",
    "version": 3
   },
   "file_extension": ".py",
   "mimetype": "text/x-python",
   "name": "python",
   "nbconvert_exporter": "python",
   "pygments_lexer": "ipython3",
   "version": "3.10.18"
  }
 },
 "nbformat": 4,
 "nbformat_minor": 5
}
